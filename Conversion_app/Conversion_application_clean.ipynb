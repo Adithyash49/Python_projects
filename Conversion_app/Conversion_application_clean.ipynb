{
 "cells": [
  {
   "cell_type": "code",
   "execution_count": 1,
   "metadata": {
    "colab": {
     "base_uri": "https://localhost:8080/",
     "height": 162,
     "referenced_widgets": [
      "4089e38d735f4b55b1b43c3e039d10d9",
      "9a3d27b13b414d588fbb5a77dde6815f",
      "f77433dc008a4d1ebe89d26347205a27",
      "9294efaaa7e448dc9bc12fb65f702620",
      "f6c3425af0354fae8766c050bf9c3e44",
      "89368c73c1d04b9d8f7e2e2d6d870c37",
      "99df5099a49e4bb7847ae60d0acf68ba",
      "e64c89b19e9b4453ba8278ab95948bb4",
      "2c6576ee2db34acd845582ef3cf1c676",
      "3aa356787d8e4a379361740d5b769718",
      "3bd196086ffd4df1827b3056a12db384",
      "0eb2e303749b4161a277ff344fb46042",
      "074416879bce4ab083fa54d16ea2c8d9",
      "9f4d46c013884ad2b5d2ae2c573aff7a",
      "15b222711c484387abbf8a83223804df",
      "f3fb588215c64f25b34e8ebf7ac2af06"
     ]
    },
    "id": "IV-vyNoOtpwc",
    "outputId": "7f844f60-f2af-4eb6-9a79-67f7844cfa17"
   },
   "outputs": [
    {
     "data": {
      "application/vnd.jupyter.widget-view+json": {
       "model_id": "116329bffcb4498d89498500bfaa3f43",
       "version_major": 2,
       "version_minor": 0
      },
      "text/plain": [
       "VBox(children=(FloatText(value=1.0, description='Value:'), Dropdown(description='From:', options=('Kilometers'…"
      ]
     },
     "metadata": {},
     "output_type": "display_data"
    }
   ],
   "source": [
    "import ipywidgets as widgets\n",
    "from IPython.display import display\n",
    "\n",
    "# Conversion dictionary\n",
    "unit_to_meters = {\n",
    "    'Kilometers': 1000,\n",
    "    'Meters': 1,\n",
    "    'Miles': 1609.34,\n",
    "    'Feet': 0.3048,\n",
    "    'Inches': 0.0254,\n",
    "    'Centimeters': 0.01,\n",
    "    'Yards': 0.9144\n",
    "}\n",
    "\n",
    "# Widgets\n",
    "from_unit = widgets.Dropdown(options=unit_to_meters.keys(), description='From:')\n",
    "to_unit = widgets.Dropdown(options=unit_to_meters.keys(), description='To:')\n",
    "distance_input = widgets.FloatText(value=1.0, description='Value:')\n",
    "convert_button = widgets.Button(description='Convert', button_style='success')\n",
    "result_output = widgets.Output()\n",
    "\n",
    "# Logic\n",
    "def on_click(b):\n",
    "    value = distance_input.value\n",
    "    from_u = from_unit.value\n",
    "    to_u = to_unit.value\n",
    "    result = (value * unit_to_meters[from_u]) / unit_to_meters[to_u]\n",
    "    with result_output:\n",
    "        result_output.clear_output()\n",
    "        print(f\"{value} {from_u} = {result:.4f} {to_u}\")\n",
    "\n",
    "convert_button.on_click(on_click)\n",
    "\n",
    "# Show UI\n",
    "display(widgets.VBox([distance_input, from_unit, to_unit, convert_button, result_output]))\n"
   ]
  },
  {
   "cell_type": "code",
   "execution_count": null,
   "metadata": {},
   "outputs": [],
   "source": []
  },
  {
   "cell_type": "code",
   "execution_count": null,
   "metadata": {},
   "outputs": [],
   "source": []
  },
  {
   "cell_type": "code",
   "execution_count": null,
   "metadata": {},
   "outputs": [],
   "source": []
  }
 ],
 "metadata": {
  "colab": {
   "provenance": []
  },
  "kernelspec": {
   "display_name": "Python 3 (ipykernel)",
   "language": "python",
   "name": "python3"
  },
  "language_info": {
   "codemirror_mode": {
    "name": "ipython",
    "version": 3
   },
   "file_extension": ".py",
   "mimetype": "text/x-python",
   "name": "python",
   "nbconvert_exporter": "python",
   "pygments_lexer": "ipython3",
   "version": "3.12.2"
  }
 },
 "nbformat": 4,
 "nbformat_minor": 4
}
