{
 "cells": [
  {
   "cell_type": "markdown",
   "id": "7dbe65ca-5f78-47c3-9cea-a65dd70e2643",
   "metadata": {},
   "source": [
    "# Converter app #"
   ]
  },
  {
   "cell_type": "code",
   "execution_count": 1,
   "id": "27e5f6e6-2c55-462f-a3e9-1e9a9e5ab5fe",
   "metadata": {},
   "outputs": [
    {
     "name": "stdin",
     "output_type": "stream",
     "text": [
      "Enter distance in kilometers:  1.45\n"
     ]
    },
    {
     "name": "stdout",
     "output_type": "stream",
     "text": [
      "1.45 kilometers is equal to 0.90 miles.\n"
     ]
    }
   ],
   "source": [
    "def km_to_miles(km):\n",
    "    return km * 0.621371\n",
    "\n",
    "# Ask user for input\n",
    "km_value = float(input(\"Enter distance in kilometers: \"))\n",
    "miles_value = km_to_miles(km_value)\n",
    "\n",
    "# Show result\n",
    "print(f\"{km_value} kilometers is equal to {miles_value:.2f} miles.\")"
   ]
  },
  {
   "cell_type": "code",
   "execution_count": null,
   "id": "c14afe1c-d63b-4964-9f18-db4ed1b85d77",
   "metadata": {},
   "outputs": [],
   "source": []
  }
 ],
 "metadata": {
  "kernelspec": {
   "display_name": "Python 3 (ipykernel)",
   "language": "python",
   "name": "python3"
  },
  "language_info": {
   "codemirror_mode": {
    "name": "ipython",
    "version": 3
   },
   "file_extension": ".py",
   "mimetype": "text/x-python",
   "name": "python",
   "nbconvert_exporter": "python",
   "pygments_lexer": "ipython3",
   "version": "3.12.7"
  }
 },
 "nbformat": 4,
 "nbformat_minor": 5
}
