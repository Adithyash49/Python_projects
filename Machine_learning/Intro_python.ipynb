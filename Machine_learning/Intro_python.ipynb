{
 "cells": [
  {
   "cell_type": "markdown",
   "id": "1e48cdeb-4f72-4113-80c3-d78e23605280",
   "metadata": {},
   "source": [
    "Machine Learning in Chemical Engineering"
   ]
  },
  {
   "cell_type": "raw",
   "id": "8857d4b8-af2b-4a0d-ac36-fdbf87f4c1eb",
   "metadata": {},
   "source": [
    "#Machine learning- Computers will have ability to learn without being explictly programmed. Supervised, Unsupervised, Reinforcement\n",
    "\n",
    "#supervised learning: we are not particularly interested in fitting the observed data very well, but rather in generalizing well to unseen data! Therefore, the concepts of overfitting and underfitting become really important.\n",
    "\n",
    "#unsupervised learning: the output values are not available, only the input data. Therefore, the goal of unsupervised learning is to identify patterns in the data. For instance, finding clusters or reducing the dimensionality of the data.\n",
    "\n",
    "#Reinforcement: the agent has to learn how to interact with its environment in order to maximize the reward or minimize the punishment.\n",
    "\n",
    "# Modelling: White, black, Hybrid\n",
    "\n",
    "# Hybrid modelling: combination of mechanistic and data-driven models and is also called “grey-box modeling”. For example, mass and energy balances, thermodynamic laws and kinetics should be respected in our models. Introducing this physical knwoledge reduces the amount of data that is needed for the ML part and improves the capacity of the models to generalize to unseen conditions.\n",
    "\n"
   ]
  },
  {
   "cell_type": "code",
   "execution_count": 2,
   "id": "1b8c2601-5f3b-45df-870c-951a2f511f3a",
   "metadata": {},
   "outputs": [
    {
     "name": "stdout",
     "output_type": "stream",
     "text": [
      "86400\n"
     ]
    }
   ],
   "source": [
    "seconds=24*60*60\n",
    "print(seconds)"
   ]
  },
  {
   "cell_type": "code",
   "execution_count": 3,
   "id": "995aaeb6-abb7-424b-901e-99a9bedead69",
   "metadata": {},
   "outputs": [
    {
     "name": "stdout",
     "output_type": "stream",
     "text": [
      "[1, 2, 3, 4, 6, 'adi', 5]\n",
      "1\n",
      "[2, 3, 4, 6, 'adi', 5]\n",
      "True\n",
      "7\n"
     ]
    }
   ],
   "source": [
    "#Python\n",
    "\n",
    "# List, tuple--order matters, duplicates allowed\n",
    "# List-mutable, tuple-immutable\n",
    "List=[1,2,3,4,6, \"adi\"]\n",
    "List.append(5)\n",
    "print(List)\n",
    "\n",
    "#indexing\n",
    "print(List[0])\n",
    "\n",
    "#Slicing\n",
    "print(List[1:])\n",
    "\n",
    "#checking\n",
    "print(5 in List)\n",
    "\n",
    "#Length\n",
    "print(len(List))"
   ]
  },
  {
   "cell_type": "code",
   "execution_count": 4,
   "id": "995329da-8827-42cf-a93a-8a63e4f058d1",
   "metadata": {},
   "outputs": [
    {
     "name": "stdout",
     "output_type": "stream",
     "text": [
      "Gautam gambhir\n",
      "m\n",
      "m gambhir\n",
      "Gautam gambhir & Virat Kohli\n"
     ]
    }
   ],
   "source": [
    "# Strings- used to store text--defined by single or double quotes\n",
    "\n",
    "string1= \"Gautam gambhir\"\n",
    "string2= \"Virat Kohli\"\n",
    "print(string1)\n",
    "print(string1[5])\n",
    "print(string1[5:])\n",
    "print (string1 + \" & \" +  string2)"
   ]
  },
  {
   "cell_type": "code",
   "execution_count": 5,
   "id": "5c986ee9-293f-426b-973f-dbca52602d46",
   "metadata": {},
   "outputs": [
    {
     "name": "stdout",
     "output_type": "stream",
     "text": [
      "Positive\n"
     ]
    }
   ],
   "source": [
    "# Conditionals\n",
    "\n",
    "my_variable=5\n",
    "if my_variable<0:\n",
    "    print (\"Negative\")\n",
    "elif my_variable==0:\n",
    "    print(\"Null\")\n",
    "else:\n",
    "    print(\"Positive\")"
   ]
  },
  {
   "cell_type": "code",
   "execution_count": 6,
   "id": "a88f0536-e8a6-482c-aaa0-c360cb147bb8",
   "metadata": {},
   "outputs": [
    {
     "name": "stdout",
     "output_type": "stream",
     "text": [
      "1\n",
      "2\n",
      "3\n",
      "4\n",
      "6\n",
      "adi\n",
      "5\n",
      "\n",
      "1\n",
      "2\n",
      "3\n",
      "4\n",
      "6\n",
      "adi\n",
      "5\n"
     ]
    }
   ],
   "source": [
    "# Loops\n",
    "\n",
    "#While loop\n",
    "i=0\n",
    "while i<len(List):\n",
    "    print(List[i])\n",
    "    i+=1\n",
    "    \n",
    "print()\n",
    "\n",
    "#for\n",
    "j=0\n",
    "for j in range (len(List)):\n",
    "    print(List[j])"
   ]
  },
  {
   "cell_type": "code",
   "execution_count": 7,
   "id": "c001421f-73eb-42be-bbc5-2733854ccecd",
   "metadata": {},
   "outputs": [
    {
     "name": "stdout",
     "output_type": "stream",
     "text": [
      "4489\n",
      "100\n",
      "\n",
      "5.729746940310715\n",
      "4.5\n",
      "[4.5, 3.3, 0.5, -1.2]\n"
     ]
    }
   ],
   "source": [
    "#Functions--code readability\n",
    "\n",
    "def square (x):\n",
    "    return x**2\n",
    "\n",
    "print(square(67))\n",
    "\n",
    "#Exercises\n",
    "\n",
    "def relu(x):\n",
    "    if x>=0:\n",
    "        print(x)\n",
    "    else:\n",
    "        print(0)\n",
    "    return\n",
    "\n",
    "relu (100)\n",
    "\n",
    "print()\n",
    "\n",
    "import math\n",
    "\n",
    "def euclidean_norm(x):\n",
    "    sum1=0\n",
    "    for i in x:\n",
    "        sum1 += i**2\n",
    "    return (math.sqrt(sum1))\n",
    "\n",
    "x=[0.5, -1.2, 3.3, 4.5]    \n",
    "print(euclidean_norm(x))\n",
    "print(max(x))\n",
    "print(sorted(x,reverse=True))\n",
    "    "
   ]
  },
  {
   "cell_type": "code",
   "execution_count": 8,
   "id": "7edb0345-d793-4d05-8289-ddfd21185583",
   "metadata": {},
   "outputs": [
    {
     "name": "stdout",
     "output_type": "stream",
     "text": [
      "[1 2 3]\n",
      "[[1 2 3]\n",
      " [3 4 8]]\n",
      "\n",
      "3\n",
      "[3 8]\n",
      "[3 4 8]\n",
      "\n",
      "(3,)\n",
      "(2, 3)\n",
      "\n",
      "\n",
      "[[0. 0. 0. 0.]\n",
      " [0. 0. 0. 0.]\n",
      " [0. 0. 0. 0.]]\n",
      "\n",
      "[0 1 2 3 4 5 6 7 8 9]\n",
      "[4 5 6 7 8]\n",
      "\n",
      "[0.         0.04040404 0.08080808 0.12121212 0.16161616 0.2020202\n",
      " 0.24242424 0.28282828 0.32323232 0.36363636 0.4040404  0.44444444\n",
      " 0.48484848 0.52525253 0.56565657 0.60606061 0.64646465 0.68686869\n",
      " 0.72727273 0.76767677 0.80808081 0.84848485 0.88888889 0.92929293\n",
      " 0.96969697 1.01010101 1.05050505 1.09090909 1.13131313 1.17171717\n",
      " 1.21212121 1.25252525 1.29292929 1.33333333 1.37373737 1.41414141\n",
      " 1.45454545 1.49494949 1.53535354 1.57575758 1.61616162 1.65656566\n",
      " 1.6969697  1.73737374 1.77777778 1.81818182 1.85858586 1.8989899\n",
      " 1.93939394 1.97979798 2.02020202 2.06060606 2.1010101  2.14141414\n",
      " 2.18181818 2.22222222 2.26262626 2.3030303  2.34343434 2.38383838\n",
      " 2.42424242 2.46464646 2.50505051 2.54545455 2.58585859 2.62626263\n",
      " 2.66666667 2.70707071 2.74747475 2.78787879 2.82828283 2.86868687\n",
      " 2.90909091 2.94949495 2.98989899 3.03030303 3.07070707 3.11111111\n",
      " 3.15151515 3.19191919 3.23232323 3.27272727 3.31313131 3.35353535\n",
      " 3.39393939 3.43434343 3.47474747 3.51515152 3.55555556 3.5959596\n",
      " 3.63636364 3.67676768 3.71717172 3.75757576 3.7979798  3.83838384\n",
      " 3.87878788 3.91919192 3.95959596 4.        ]\n",
      "\n",
      "[[ 1  2]\n",
      " [ 3  4]\n",
      " [ 5  6]\n",
      " [ 7  8]\n",
      " [ 8  8]\n",
      " [ 8  6]\n",
      " [ 5  5]\n",
      " [54  4]]\n"
     ]
    }
   ],
   "source": [
    "#Array: an array is a data structure consisting of a collection of elements (values or variables), of same memory size, each identified by at least one array index or key.\n",
    "#Numpy: popular library for storing arrays of numbers and performing computations on them.\n",
    "\n",
    "import numpy as np\n",
    "array_1d=np.array([1,2,3])\n",
    "array_2d=np.array([[1,2, 3],[3,4,8]])\n",
    "print (array_1d)\n",
    "print(array_2d)\n",
    "\n",
    "print()\n",
    "\n",
    "print(array_2d[0,2])\n",
    "print(array_2d[:,2])\n",
    "print(array_2d[1])\n",
    "\n",
    "print()\n",
    "\n",
    "print(array_1d.shape)\n",
    "print(array_2d.shape)\n",
    "print()\n",
    "# Contrary to Python lists, NumPy arrays must have a type and all elements of the array must have the same type.\n",
    "\n",
    "array_1d.dtype\n",
    "array_2d.dtype\n",
    "print()\n",
    "#zeros\n",
    "\n",
    "zero_array=np.zeros((3,4))\n",
    "print(zero_array)\n",
    "print()\n",
    "\n",
    "#range\n",
    "\n",
    "range1=np.arange(10)\n",
    "range2=np.arange(4,9)\n",
    "print(range1)\n",
    "print(range2)\n",
    "print()\n",
    "\n",
    "#Linspace\n",
    "\n",
    "lin1=np.linspace(0,4,100)\n",
    "print(lin1)\n",
    "print()\n",
    "#Reshape\n",
    "\n",
    "shape1=np.array ([1,2,3,4,5,6,7,8,8,8,8,6,5,5,54,4])\n",
    "print(shape1.reshape(8,2))\n"
   ]
  },
  {
   "cell_type": "code",
   "execution_count": 9,
   "id": "cd4f8359-5afb-471a-a5d9-ebde5818f2e5",
   "metadata": {},
   "outputs": [
    {
     "name": "stdout",
     "output_type": "stream",
     "text": [
      "[3, 4, 5, 5, 6, 7]\n",
      "\n",
      "[ 6 58 10]\n",
      "250\n",
      "[ 0.14112001 -0.55878905 -0.95892427]\n",
      "[3 4 5]\n",
      "[4 5 6]\n"
     ]
    }
   ],
   "source": [
    "list1=[3,4,5]\n",
    "list2=[5,6,7]\n",
    "list3=list1+list2\n",
    "print(list3)\n",
    "print()\n",
    "\n",
    "array1=np.array([3,4,5])\n",
    "array2=np.array([3,54,5])\n",
    "array3=array1+array2\n",
    "print(array3)\n",
    "\n",
    "#matrix multiplication\n",
    "print(np.dot(array1,array2))\n",
    "print(np.sin(array2))\n",
    "print(array1.T)\n",
    "\n",
    "#slicing\n",
    "a1=np.array([1,2,3,4,5,6])\n",
    "a2=a1[3:]\n",
    "print(a2)"
   ]
  },
  {
   "cell_type": "code",
   "execution_count": 10,
   "id": "8c2a3271-81e4-4b7e-be52-e93cf753a792",
   "metadata": {},
   "outputs": [
    {
     "name": "stdout",
     "output_type": "stream",
     "text": [
      "[[[1 2]\n",
      "  [3 5]]\n",
      "\n",
      " [[4 6]\n",
      "  [4 5]]]\n",
      "[3 5]\n"
     ]
    }
   ],
   "source": [
    "#Exercises\n",
    "\n",
    "array_3d=np.array([[1,2],[3,5],[4,6],[4,5]])\n",
    "array_3d1=array_3d.reshape(2,2,2)\n",
    "print(array_3d1)\n",
    "\n",
    "print(array_3d1[0,1])\n",
    "\n",
    "\n"
   ]
  },
  {
   "cell_type": "code",
   "execution_count": 11,
   "id": "32599bfc-cdb2-4b2b-bb38-e35d67ae5d63",
   "metadata": {},
   "outputs": [
    {
     "name": "stdout",
     "output_type": "stream",
     "text": [
      "[[1 2 3]\n",
      " [3 4 0]]\n",
      "[3 0 5]\n"
     ]
    }
   ],
   "source": [
    "def relu_num(x):\n",
    "    return np.maximum(0,x)\n",
    "\n",
    "x=np.array([[1,2,3],[3,4,-4]])\n",
    "print(relu_num(x))\n",
    "y=np.array([3,-4,5])\n",
    "print(relu_num(y))\n"
   ]
  },
  {
   "cell_type": "code",
   "execution_count": 12,
   "id": "c8ed6d92-4ef1-4f25-bc4e-77c4153b5bd6",
   "metadata": {},
   "outputs": [
    {
     "data": {
      "text/plain": [
       "43.3923956471638"
      ]
     },
     "execution_count": 12,
     "metadata": {},
     "output_type": "execute_result"
    }
   ],
   "source": [
    "def euclidean_num(x):\n",
    "    return np.array(math.sqrt(sum(x)))\n",
    "x=[1,2,-4.5,-2.4,1.7,-43]\n",
    "euclidean_norm(x)"
   ]
  },
  {
   "cell_type": "code",
   "execution_count": 13,
   "id": "a9319a8b-8c3d-43a0-a333-3ab7acedebee",
   "metadata": {},
   "outputs": [
    {
     "name": "stdout",
     "output_type": "stream",
     "text": [
      "[43.39239565  9.21954446]\n"
     ]
    }
   ],
   "source": [
    "# Axis 0 means working across rows (or column-wise operations).\n",
    "# Axis 1 means working across columns (or row-wise operations).\n",
    "\n",
    "def euclidean_num(x):\n",
    "    return np.sqrt(np.sum(x**2, axis=1))\n",
    "    \n",
    "x=np.array([[1,2,-4.5,-2.4,1.7,-43],[2,3,4,2,4,6]])\n",
    "\n",
    "print(euclidean_num(x))"
   ]
  },
  {
   "cell_type": "code",
   "execution_count": 14,
   "id": "7f5f4b9b-ff40-40c3-8f2a-e9137d7f8ef4",
   "metadata": {},
   "outputs": [
    {
     "data": {
      "image/png": "[encoded data removed]",
      "text/plain": [
       "<Figure size 640x480 with 1 Axes>"
      ]
     },
     "metadata": {},
     "output_type": "display_data"
    }
   ],
   "source": [
    "#Matplotlib\n",
    "\n",
    "from matplotlib import pyplot as plt\n",
    "x=np.linspace(-3,3,100)\n",
    "\n",
    "plt.figure()\n",
    "plt.plot(x,np.sin(x), label=(\"Sinusoid\"))\n",
    "plt.xlabel(\"x\")\n",
    "plt.ylabel(\"sin(x\")\n",
    "plt.title(\"Matplotlib example\")\n",
    "plt.legend(loc=\"upper left\")\n",
    "plt.show()"
   ]
  },
  {
   "cell_type": "code",
   "execution_count": 15,
   "id": "1f056fee-24b3-4f7b-86af-a33f7e4697f1",
   "metadata": {},
   "outputs": [
    {
     "data": {
      "image/png": "[encoded data removed]",
      "text/plain": [
       "<Figure size 800x600 with 1 Axes>"
      ]
     },
     "metadata": {},
     "output_type": "display_data"
    }
   ],
   "source": [
    "# Define the ReLU function\n",
    "def relu(x):\n",
    "    return np.maximum(0, x)\n",
    "\n",
    "# Define the Softplus function\n",
    "def softplus(x):\n",
    "    return np.log1p(np.exp(x))\n",
    "\n",
    "# Generate a range of x values\n",
    "x = np.linspace(-3, 3, 400)\n",
    "\n",
    "# Calculate the corresponding y values for both functions\n",
    "y_relu = relu(x)\n",
    "y_softplus = softplus(x)\n",
    "\n",
    "# Plot both functions on the same graph\n",
    "plt.figure(figsize=(8, 6))\n",
    "plt.plot(x,np.sin(x), label=(\"Sinusoid\"))\n",
    "plt.plot(x, y_relu, label='ReLU(x)', color='blue')\n",
    "plt.plot(x, y_softplus, label='Softplus(x)', color='red', linestyle='--')\n",
    "plt.title('ReLU vs Softplus')\n",
    "plt.xlabel('x')\n",
    "plt.ylabel('y')\n",
    "plt.legend()\n",
    "plt.grid(True)\n",
    "plt.show()"
   ]
  },
  {
   "cell_type": "code",
   "execution_count": null,
   "id": "434f4f51-d9d9-4dcf-bbeb-d70231e4c22b",
   "metadata": {},
   "outputs": [],
   "source": []
  },
  {
   "cell_type": "code",
   "execution_count": null,
   "id": "e2ae26c5-a163-4d17-8fd4-ea7f4e525252",
   "metadata": {},
   "outputs": [],
   "source": []
  },
  {
   "cell_type": "code",
   "execution_count": null,
   "id": "e8f2b2e8-3c05-4f1e-8509-400dd802db4e",
   "metadata": {},
   "outputs": [],
   "source": []
  },
  {
   "cell_type": "code",
   "execution_count": null,
   "id": "0c822a17-5674-474e-a307-07a2bedc33b2",
   "metadata": {},
   "outputs": [],
   "source": []
  }
 ],
 "metadata": {
  "kernelspec": {
   "display_name": "Python 3 (ipykernel)",
   "language": "python",
   "name": "python3"
  },
  "language_info": {
   "codemirror_mode": {
    "name": "ipython",
    "version": 3
   },
   "file_extension": ".py",
   "mimetype": "text/x-python",
   "name": "python",
   "nbconvert_exporter": "python",
   "pygments_lexer": "ipython3",
   "version": "3.12.7"
  }
 },
 "nbformat": 4,
 "nbformat_minor": 5
}
